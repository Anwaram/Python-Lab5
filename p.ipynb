{
 "cells": [
  {
   "cell_type": "code",
   "execution_count": null,
   "id": "84259dcd",
   "metadata": {},
   "outputs": [],
   "source": [
    "list = [5, 4, 17, 19, 30, 2, 7, 10, 45]\n",
    "\n",
    "def sm(x) :\n",
    "    res = 0\n",
    "    for i in range(len(x)) :\n",
    "        res+= x[i]\n",
    "    return res\n",
    "\n",
    "def mx(x) :\n",
    "    max = 0\n",
    "    nlist = [ i for i in x if i > max]\n",
    "    return nlist\n",
    "\n",
    "def even(x) :\n",
    "    nlist = [ i for i in x if i % 2 == 0]\n",
    "    return nlist\n",
    "\n",
    "print(sm(list))\n",
    "print(mx(list))\n",
    "print(even(list))\n",
    "newlist = list[:5]\n",
    "print(newlist)"
   ]
  },
  {
   "cell_type": "code",
   "execution_count": null,
   "id": "063c07f4",
   "metadata": {},
   "outputs": [],
   "source": []
  }
 ],
 "metadata": {
  "kernelspec": {
   "display_name": "Python 3 (ipykernel)",
   "language": "python",
   "name": "python3"
  },
  "language_info": {
   "codemirror_mode": {
    "name": "ipython",
    "version": 3
   },
   "file_extension": ".py",
   "mimetype": "text/x-python",
   "name": "python",
   "nbconvert_exporter": "python",
   "pygments_lexer": "ipython3",
   "version": "3.9.13"
  }
 },
 "nbformat": 4,
 "nbformat_minor": 5
}
